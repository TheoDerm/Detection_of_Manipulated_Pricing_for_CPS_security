{
 "cells": [
  {
   "cell_type": "code",
   "execution_count": 1,
   "metadata": {},
   "outputs": [],
   "source": [
    "from sklearn.model_selection import train_test_split\n",
    "from sklearn.ensemble import RandomForestClassifier\n",
    "from sklearn.neighbors import KNeighborsClassifier\n",
    "from sklearn.naive_bayes import GaussianNB\n",
    "from sklearn.svm import SVC\n",
    "from sklearn.metrics import accuracy_score\n",
    "\n",
    "import numpy as np\n",
    "import pandas as pd\n",
    "\n",
    "\n",
    "#load the data from 'TrainingData.txt' into a dataframe\n",
    "df = pd.read_csv('TrainingData.txt',sep=',', header=None)\n",
    "\n",
    "#create two data sets\n",
    "guideline_price_set = df.iloc[:,:24]    #data set for the guideline prices\n",
    "labels_set = df.iloc[:,-1]              #data set for the labels of the guideline prices\n",
    "\n"
   ]
  },
  {
   "cell_type": "markdown",
   "metadata": {},
   "source": [
    "Split the guideline prices and the labels into two separate sets for training and validation. The training sets will be 80% of the original set and the validating sets the rest 20%"
   ]
  },
  {
   "cell_type": "code",
   "execution_count": 2,
   "metadata": {},
   "outputs": [],
   "source": [
    "#creating 4 new data sets.  guideline_train = 80% of guideline_price_set,   labels_train = 80% of labels_set\n",
    "#                            guideline_test = 20& of guideline_price_set,   labels_test = 20% of labels_set\n",
    "guideline_train,guideline_test,labels_train,labels_test = train_test_split(guideline_price_set,labels_set, test_size=0.2, random_state=0)\n"
   ]
  },
  {
   "cell_type": "markdown",
   "metadata": {},
   "source": [
    "Format the data so I can use it in the classifiers"
   ]
  },
  {
   "cell_type": "code",
   "execution_count": 3,
   "metadata": {},
   "outputs": [],
   "source": [
    "#Change the data sets into arrays\n",
    "guideline_train = np.asarray(guideline_train)\n",
    "guideline_test = np.asarray(guideline_test)\n",
    "\n",
    "labels_train = np.asarray(labels_train)\n",
    "labels_test = np.asarray(labels_test)\n",
    "\n"
   ]
  },
  {
   "cell_type": "markdown",
   "metadata": {},
   "source": [
    "Tried three different classifiers to see which one would has the best accuracy."
   ]
  },
  {
   "cell_type": "markdown",
   "metadata": {},
   "source": [
    "Support Vector Classifier"
   ]
  },
  {
   "cell_type": "code",
   "execution_count": 4,
   "metadata": {},
   "outputs": [
    {
     "name": "stdout",
     "output_type": "stream",
     "text": [
      "Support Vector Accuracy:  0.95\n"
     ]
    }
   ],
   "source": [
    "svc_classifer = SVC()\n",
    "svc_classifer.fit(guideline_train,labels_train)\n",
    "svc_predict = svc_classifer.predict(guideline_test)\n",
    "\n",
    "svc_accuracy = accuracy_score(labels_test, svc_predict)\n",
    "\n",
    "print(\"Support Vector Accuracy: \" , svc_accuracy)"
   ]
  },
  {
   "cell_type": "markdown",
   "metadata": {},
   "source": [
    "Random Forest Classifier"
   ]
  },
  {
   "cell_type": "code",
   "execution_count": 5,
   "metadata": {},
   "outputs": [
    {
     "name": "stdout",
     "output_type": "stream",
     "text": [
      "Random Forest Accuracy:  0.891\n"
     ]
    }
   ],
   "source": [
    "rf_classifer = RandomForestClassifier()\n",
    "rf_classifer.fit(guideline_train,labels_train)\n",
    "rf_predict = rf_classifer.predict(guideline_test)\n",
    "\n",
    "rf_accuracy = accuracy_score(labels_test, rf_predict)\n",
    "\n",
    "print(\"Random Forest Accuracy: \" , rf_accuracy)"
   ]
  },
  {
   "cell_type": "markdown",
   "metadata": {},
   "source": [
    "Gaussian Naïve Bayes Classifier"
   ]
  },
  {
   "cell_type": "code",
   "execution_count": 6,
   "metadata": {},
   "outputs": [
    {
     "name": "stdout",
     "output_type": "stream",
     "text": [
      "Gaussian Naïve Bayes Accuracy:  0.94\n"
     ]
    }
   ],
   "source": [
    "naive_classifer = GaussianNB()\n",
    "naive_classifer.fit(guideline_train,labels_train)\n",
    "naive_predict = naive_classifer.predict(guideline_test) \n",
    "\n",
    "naive_accuracy = accuracy_score(labels_test, naive_predict)\n",
    "\n",
    "print(\"Gaussian Naïve Bayes Accuracy: \" , naive_accuracy)"
   ]
  },
  {
   "cell_type": "markdown",
   "metadata": {},
   "source": [
    "K Nearest Neighbors Classifier"
   ]
  },
  {
   "cell_type": "code",
   "execution_count": 7,
   "metadata": {},
   "outputs": [
    {
     "name": "stdout",
     "output_type": "stream",
     "text": [
      "K Nearest Neighbors Accuracy:  0.803\n"
     ]
    }
   ],
   "source": [
    "kn_classifer = KNeighborsClassifier()\n",
    "kn_classifer.fit(guideline_train,labels_train)\n",
    "kn_predict = kn_classifer.predict(guideline_test) \n",
    "\n",
    "kn_accuracy = accuracy_score(labels_test, kn_predict)\n",
    "\n",
    "print(\"K Nearest Neighbors Accuracy: \" , kn_accuracy)"
   ]
  },
  {
   "cell_type": "markdown",
   "metadata": {},
   "source": [
    "Reading the \"TestingData.txt\" data set in order to predict the test labels"
   ]
  },
  {
   "cell_type": "code",
   "execution_count": 8,
   "metadata": {},
   "outputs": [
    {
     "data": {
      "text/html": [
       "<div>\n",
       "<style scoped>\n",
       "    .dataframe tbody tr th:only-of-type {\n",
       "        vertical-align: middle;\n",
       "    }\n",
       "\n",
       "    .dataframe tbody tr th {\n",
       "        vertical-align: top;\n",
       "    }\n",
       "\n",
       "    .dataframe thead th {\n",
       "        text-align: right;\n",
       "    }\n",
       "</style>\n",
       "<table border=\"1\" class=\"dataframe\">\n",
       "  <thead>\n",
       "    <tr style=\"text-align: right;\">\n",
       "      <th></th>\n",
       "      <th>0</th>\n",
       "      <th>1</th>\n",
       "      <th>2</th>\n",
       "      <th>3</th>\n",
       "      <th>4</th>\n",
       "      <th>5</th>\n",
       "      <th>6</th>\n",
       "      <th>7</th>\n",
       "      <th>8</th>\n",
       "      <th>9</th>\n",
       "      <th>...</th>\n",
       "      <th>14</th>\n",
       "      <th>15</th>\n",
       "      <th>16</th>\n",
       "      <th>17</th>\n",
       "      <th>18</th>\n",
       "      <th>19</th>\n",
       "      <th>20</th>\n",
       "      <th>21</th>\n",
       "      <th>22</th>\n",
       "      <th>23</th>\n",
       "    </tr>\n",
       "  </thead>\n",
       "  <tbody>\n",
       "    <tr>\n",
       "      <th>0</th>\n",
       "      <td>4.512853</td>\n",
       "      <td>3.436581</td>\n",
       "      <td>3.682556</td>\n",
       "      <td>3.062718</td>\n",
       "      <td>3.456278</td>\n",
       "      <td>4.028039</td>\n",
       "      <td>3.530470</td>\n",
       "      <td>4.292340</td>\n",
       "      <td>5.018994</td>\n",
       "      <td>4.783190</td>\n",
       "      <td>...</td>\n",
       "      <td>5.857223</td>\n",
       "      <td>6.381602</td>\n",
       "      <td>6.115519</td>\n",
       "      <td>6.294756</td>\n",
       "      <td>6.513145</td>\n",
       "      <td>5.250190</td>\n",
       "      <td>5.913805</td>\n",
       "      <td>5.123827</td>\n",
       "      <td>5.629438</td>\n",
       "      <td>5.753545</td>\n",
       "    </tr>\n",
       "    <tr>\n",
       "      <th>1</th>\n",
       "      <td>4.038201</td>\n",
       "      <td>3.874221</td>\n",
       "      <td>3.120743</td>\n",
       "      <td>3.261643</td>\n",
       "      <td>2.990717</td>\n",
       "      <td>3.789115</td>\n",
       "      <td>3.935849</td>\n",
       "      <td>4.391824</td>\n",
       "      <td>5.356575</td>\n",
       "      <td>5.274408</td>\n",
       "      <td>...</td>\n",
       "      <td>5.822269</td>\n",
       "      <td>6.206444</td>\n",
       "      <td>5.631747</td>\n",
       "      <td>6.631983</td>\n",
       "      <td>6.593441</td>\n",
       "      <td>5.643768</td>\n",
       "      <td>5.930986</td>\n",
       "      <td>5.421773</td>\n",
       "      <td>5.150519</td>\n",
       "      <td>5.126661</td>\n",
       "    </tr>\n",
       "    <tr>\n",
       "      <th>2</th>\n",
       "      <td>4.343619</td>\n",
       "      <td>3.254605</td>\n",
       "      <td>3.130290</td>\n",
       "      <td>3.583647</td>\n",
       "      <td>3.021889</td>\n",
       "      <td>3.953010</td>\n",
       "      <td>4.379102</td>\n",
       "      <td>4.432525</td>\n",
       "      <td>5.478115</td>\n",
       "      <td>4.914986</td>\n",
       "      <td>...</td>\n",
       "      <td>5.284374</td>\n",
       "      <td>6.252251</td>\n",
       "      <td>5.771876</td>\n",
       "      <td>6.023015</td>\n",
       "      <td>6.340118</td>\n",
       "      <td>5.398613</td>\n",
       "      <td>5.176215</td>\n",
       "      <td>5.193332</td>\n",
       "      <td>5.543661</td>\n",
       "      <td>5.148262</td>\n",
       "    </tr>\n",
       "    <tr>\n",
       "      <th>3</th>\n",
       "      <td>4.215916</td>\n",
       "      <td>3.310803</td>\n",
       "      <td>3.144808</td>\n",
       "      <td>2.826131</td>\n",
       "      <td>2.979042</td>\n",
       "      <td>3.264118</td>\n",
       "      <td>3.640009</td>\n",
       "      <td>4.332902</td>\n",
       "      <td>5.842453</td>\n",
       "      <td>4.560108</td>\n",
       "      <td>...</td>\n",
       "      <td>5.437254</td>\n",
       "      <td>6.420271</td>\n",
       "      <td>6.014269</td>\n",
       "      <td>6.447240</td>\n",
       "      <td>6.788652</td>\n",
       "      <td>5.721373</td>\n",
       "      <td>5.923394</td>\n",
       "      <td>4.989043</td>\n",
       "      <td>5.797218</td>\n",
       "      <td>5.723375</td>\n",
       "    </tr>\n",
       "    <tr>\n",
       "      <th>4</th>\n",
       "      <td>4.607662</td>\n",
       "      <td>3.688971</td>\n",
       "      <td>3.804653</td>\n",
       "      <td>2.882434</td>\n",
       "      <td>3.247362</td>\n",
       "      <td>3.393615</td>\n",
       "      <td>3.720861</td>\n",
       "      <td>3.600273</td>\n",
       "      <td>5.536350</td>\n",
       "      <td>4.653512</td>\n",
       "      <td>...</td>\n",
       "      <td>5.402382</td>\n",
       "      <td>5.784929</td>\n",
       "      <td>6.340968</td>\n",
       "      <td>6.649603</td>\n",
       "      <td>6.720808</td>\n",
       "      <td>5.392021</td>\n",
       "      <td>5.130296</td>\n",
       "      <td>5.532805</td>\n",
       "      <td>6.028962</td>\n",
       "      <td>5.496418</td>\n",
       "    </tr>\n",
       "  </tbody>\n",
       "</table>\n",
       "<p>5 rows × 24 columns</p>\n",
       "</div>"
      ],
      "text/plain": [
       "         0         1         2         3         4         5         6   \\\n",
       "0  4.512853  3.436581  3.682556  3.062718  3.456278  4.028039  3.530470   \n",
       "1  4.038201  3.874221  3.120743  3.261643  2.990717  3.789115  3.935849   \n",
       "2  4.343619  3.254605  3.130290  3.583647  3.021889  3.953010  4.379102   \n",
       "3  4.215916  3.310803  3.144808  2.826131  2.979042  3.264118  3.640009   \n",
       "4  4.607662  3.688971  3.804653  2.882434  3.247362  3.393615  3.720861   \n",
       "\n",
       "         7         8         9   ...        14        15        16        17  \\\n",
       "0  4.292340  5.018994  4.783190  ...  5.857223  6.381602  6.115519  6.294756   \n",
       "1  4.391824  5.356575  5.274408  ...  5.822269  6.206444  5.631747  6.631983   \n",
       "2  4.432525  5.478115  4.914986  ...  5.284374  6.252251  5.771876  6.023015   \n",
       "3  4.332902  5.842453  4.560108  ...  5.437254  6.420271  6.014269  6.447240   \n",
       "4  3.600273  5.536350  4.653512  ...  5.402382  5.784929  6.340968  6.649603   \n",
       "\n",
       "         18        19        20        21        22        23  \n",
       "0  6.513145  5.250190  5.913805  5.123827  5.629438  5.753545  \n",
       "1  6.593441  5.643768  5.930986  5.421773  5.150519  5.126661  \n",
       "2  6.340118  5.398613  5.176215  5.193332  5.543661  5.148262  \n",
       "3  6.788652  5.721373  5.923394  4.989043  5.797218  5.723375  \n",
       "4  6.720808  5.392021  5.130296  5.532805  6.028962  5.496418  \n",
       "\n",
       "[5 rows x 24 columns]"
      ]
     },
     "execution_count": 8,
     "metadata": {},
     "output_type": "execute_result"
    }
   ],
   "source": [
    "test_data = pd.read_csv('TestingData.txt',sep=',', header=None)\n",
    "test_data.head()"
   ]
  },
  {
   "cell_type": "markdown",
   "metadata": {},
   "source": [
    "Predictions Results for Support Vector Classifier"
   ]
  },
  {
   "cell_type": "markdown",
   "metadata": {},
   "source": [
    "Prediction Results for Gaussian Naïve Bayes Classifier"
   ]
  },
  {
   "cell_type": "code",
   "execution_count": 10,
   "metadata": {},
   "outputs": [
    {
     "name": "stdout",
     "output_type": "stream",
     "text": [
      "100\n",
      "0  =>  0 \t\n",
      "1  =>  0 \t\n",
      "2  =>  0 \t\n",
      "3  =>  0 \t\n",
      "4  =>  1 \t\n",
      "5  =>  1 \t\n",
      "6  =>  0 \t\n",
      "7  =>  0 \t\n",
      "8  =>  1 \t\n",
      "9  =>  0 \t\n",
      "10  =>  0 \t\n",
      "11  =>  1 \t\n",
      "12  =>  1 \t\n",
      "13  =>  0 \t\n",
      "14  =>  1 \t\n",
      "15  =>  1 \t\n",
      "16  =>  1 \t\n",
      "17  =>  1 \t\n",
      "18  =>  1 \t\n",
      "19  =>  1 \t\n",
      "20  =>  0 \t\n",
      "21  =>  1 \t\n",
      "22  =>  0 \t\n",
      "23  =>  0 \t\n",
      "24  =>  0 \t\n",
      "25  =>  1 \t\n",
      "26  =>  0 \t\n",
      "27  =>  1 \t\n",
      "28  =>  0 \t\n",
      "29  =>  1 \t\n",
      "30  =>  1 \t\n",
      "31  =>  1 \t\n",
      "32  =>  1 \t\n",
      "33  =>  0 \t\n",
      "34  =>  1 \t\n",
      "35  =>  0 \t\n",
      "36  =>  0 \t\n",
      "37  =>  1 \t\n",
      "38  =>  1 \t\n",
      "39  =>  0 \t\n",
      "40  =>  1 \t\n",
      "41  =>  0 \t\n",
      "42  =>  0 \t\n",
      "43  =>  1 \t\n",
      "44  =>  1 \t\n",
      "45  =>  1 \t\n",
      "46  =>  0 \t\n",
      "47  =>  1 \t\n",
      "48  =>  1 \t\n",
      "49  =>  0 \t\n",
      "50  =>  1 \t\n",
      "51  =>  0 \t\n",
      "52  =>  0 \t\n",
      "53  =>  1 \t\n",
      "54  =>  1 \t\n",
      "55  =>  1 \t\n",
      "56  =>  0 \t\n",
      "57  =>  1 \t\n",
      "58  =>  1 \t\n",
      "59  =>  0 \t\n",
      "60  =>  0 \t\n",
      "61  =>  1 \t\n",
      "62  =>  1 \t\n",
      "63  =>  1 \t\n",
      "64  =>  1 \t\n",
      "65  =>  0 \t\n",
      "66  =>  0 \t\n",
      "67  =>  1 \t\n",
      "68  =>  1 \t\n",
      "69  =>  1 \t\n",
      "70  =>  0 \t\n",
      "71  =>  0 \t\n",
      "72  =>  0 \t\n",
      "73  =>  1 \t\n",
      "74  =>  1 \t\n",
      "75  =>  0 \t\n",
      "76  =>  1 \t\n",
      "77  =>  0 \t\n",
      "78  =>  1 \t\n",
      "79  =>  1 \t\n",
      "80  =>  0 \t\n",
      "81  =>  1 \t\n",
      "82  =>  0 \t\n",
      "83  =>  1 \t\n",
      "84  =>  1 \t\n",
      "85  =>  1 \t\n",
      "86  =>  1 \t\n",
      "87  =>  1 \t\n",
      "88  =>  1 \t\n",
      "89  =>  1 \t\n",
      "90  =>  0 \t\n",
      "91  =>  0 \t\n",
      "92  =>  0 \t\n",
      "93  =>  1 \t\n",
      "94  =>  1 \t\n",
      "95  =>  1 \t\n",
      "96  =>  0 \t\n",
      "97  =>  0 \t\n",
      "98  =>  0 \t\n",
      "99  =>  0 \t\n",
      "56\n"
     ]
    }
   ],
   "source": [
    "naive_classifer.fit(guideline_price_set, labels_set)\n",
    "predicted_labels = naive_classifer.predict(test_data)\n",
    "print(len(predicted_labels))\n",
    "\n",
    "sum = 0\n",
    "for i in range (len(predicted_labels)):\n",
    "    print(i, ' => ' , predicted_labels[i] , '\\t')\n",
    "    if(predicted_labels[i] == 1):\n",
    "        sum += 1\n",
    "\n",
    "print (sum)"
   ]
  }
 ],
 "metadata": {
  "interpreter": {
   "hash": "30dd48f03a1755868bed0ebae4d821053bb50859b8a37dcf141d4ce169c6a568"
  },
  "kernelspec": {
   "display_name": "Python 3.10.1 64-bit",
   "language": "python",
   "name": "python3"
  },
  "language_info": {
   "codemirror_mode": {
    "name": "ipython",
    "version": 3
   },
   "file_extension": ".py",
   "mimetype": "text/x-python",
   "name": "python",
   "nbconvert_exporter": "python",
   "pygments_lexer": "ipython3",
   "version": "3.10.1"
  },
  "orig_nbformat": 4
 },
 "nbformat": 4,
 "nbformat_minor": 2
}
